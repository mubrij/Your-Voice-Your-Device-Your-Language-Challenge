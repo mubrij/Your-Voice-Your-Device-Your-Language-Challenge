{
 "cells": [
  {
   "cell_type": "code",
   "execution_count": 1,
   "metadata": {
    "_cell_guid": "b1076dfc-b9ad-4769-8c92-a6c4dae69d19",
    "_uuid": "8f2839f25d086af736a60e9eeb907d3b93b6e0e5",
    "execution": {
     "iopub.execute_input": "2025-08-03T22:22:36.988100Z",
     "iopub.status.busy": "2025-08-03T22:22:36.987818Z",
     "iopub.status.idle": "2025-08-03T22:26:47.026101Z",
     "shell.execute_reply": "2025-08-03T22:26:47.025062Z",
     "shell.execute_reply.started": "2025-08-03T22:22:36.988079Z"
    },
    "trusted": true
   },
   "outputs": [],
   "source": [
    "%%capture\n",
    "!pip install fairseq2\n",
    "!pip install pydub sentencepiece\n",
    "!pip install git+https://github.com/facebookresearch/seamless_communication.git"
   ]
  },
  {
   "cell_type": "code",
   "execution_count": 2,
   "metadata": {
    "execution": {
     "iopub.execute_input": "2025-08-03T22:26:47.028115Z",
     "iopub.status.busy": "2025-08-03T22:26:47.027795Z",
     "iopub.status.idle": "2025-08-03T22:26:51.207228Z",
     "shell.execute_reply": "2025-08-03T22:26:51.206426Z",
     "shell.execute_reply.started": "2025-08-03T22:26:47.028090Z"
    },
    "trusted": true
   },
   "outputs": [],
   "source": [
    "import io\n",
    "import json\n",
    "import matplotlib as mpl\n",
    "import matplotlib.pyplot as plt\n",
    "import mmap\n",
    "import numpy\n",
    "import soundfile\n",
    "import tqdm\n",
    "import pandas as pd\n",
    "import torchaudio\n",
    "import torch\n",
    "\n",
    "from collections import defaultdict\n",
    "from IPython.display import Audio, display\n",
    "from pathlib import Path\n",
    "from pydub import AudioSegment\n",
    "\n",
    "from seamless_communication.inference import Translator\n",
    "from seamless_communication.streaming.dataloaders.s2tt import SileroVADSilenceRemover"
   ]
  },
  {
   "cell_type": "code",
   "execution_count": 20,
   "metadata": {
    "execution": {
     "iopub.execute_input": "2025-08-03T23:32:50.658317Z",
     "iopub.status.busy": "2025-08-03T23:32:50.657700Z",
     "iopub.status.idle": "2025-08-03T23:32:58.189303Z",
     "shell.execute_reply": "2025-08-03T23:32:58.188447Z",
     "shell.execute_reply.started": "2025-08-03T23:32:50.658292Z"
    },
    "trusted": true
   },
   "outputs": [
    {
     "name": "stdout",
     "output_type": "stream",
     "text": [
      "====Vocoder Name====/n vocoder_36langs\n"
     ]
    },
    {
     "name": "stderr",
     "output_type": "stream",
     "text": [
      "Using the cached checkpoint of seamlessM4T_medium. Set `force` to `True` to download again.\n",
      "Using the cached tokenizer of seamlessM4T_medium. Set `force` to `True` to download again.\n",
      "Using the cached checkpoint of vocoder_36langs. Set `force` to `True` to download again.\n",
      "/usr/local/lib/python3.11/dist-packages/torch/nn/utils/weight_norm.py:28: UserWarning: torch.nn.utils.weight_norm is deprecated in favor of torch.nn.utils.parametrizations.weight_norm.\n",
      "  warnings.warn(\"torch.nn.utils.weight_norm is deprecated in favor of torch.nn.utils.parametrizations.weight_norm.\")\n"
     ]
    }
   ],
   "source": [
    "model_name = \"seamlessM4T_medium\"\n",
    "vocoder_name = \"vocoder_v2\" if model_name == \"seamlessM4T_v2_large\" else \"vocoder_36langs\"\n",
    "\n",
    "print(\"====Vocoder Name====/n\", vocoder_name)\n",
    "\n",
    "translator = Translator(\n",
    "    model_name,\n",
    "    vocoder_name,\n",
    "    device=torch.device(\"cuda:0\"),\n",
    "    dtype=torch.float16,\n",
    ")"
   ]
  },
  {
   "cell_type": "code",
   "execution_count": 21,
   "metadata": {
    "execution": {
     "iopub.execute_input": "2025-08-03T23:33:10.049791Z",
     "iopub.status.busy": "2025-08-03T23:33:10.049515Z",
     "iopub.status.idle": "2025-08-03T23:33:11.425266Z",
     "shell.execute_reply": "2025-08-03T23:33:11.424601Z",
     "shell.execute_reply.started": "2025-08-03T23:33:10.049771Z"
    },
    "trusted": true
   },
   "outputs": [
    {
     "data": {
      "text/plain": [
       "Dataset({\n",
       "    features: ['audio', 'filename', 'record_id'],\n",
       "    num_rows: 4089\n",
       "})"
      ]
     },
     "execution_count": 21,
     "metadata": {},
     "output_type": "execute_result"
    }
   ],
   "source": [
    "# Load the dataset\n",
    "from datasets import load_dataset, Audio\n",
    "ds = load_dataset('sartifyllc/Sartify_ITU_Zindi_Testdataset', split=\"test\")\n",
    "ds = ds.cast_column(\"audio\", Audio(decode=False))\n",
    "ds\n"
   ]
  },
  {
   "cell_type": "code",
   "execution_count": null,
   "metadata": {
    "execution": {
     "iopub.execute_input": "2025-08-03T23:33:18.969747Z",
     "iopub.status.busy": "2025-08-03T23:33:18.969500Z",
     "iopub.status.idle": "2025-08-03T23:33:43.600258Z",
     "shell.execute_reply": "2025-08-03T23:33:43.599598Z",
     "shell.execute_reply.started": "2025-08-03T23:33:18.969732Z"
    },
    "trusted": true
   },
   "outputs": [],
   "source": [
    "import os\n",
    "import soundfile as sf\n",
    "import numpy as np\n",
    "\n",
    "os.makedirs(\"waves\", exist_ok=True)\n",
    "\n",
    "audio_path = []\n",
    "\n",
    "def normalize_audio(audio, mode=\"rms\", sr=16000):\n",
    "    if mode == \"peak\":\n",
    "        peak = np.max(np.abs(audio))\n",
    "        if peak > 0:\n",
    "            return audio / peak\n",
    "    elif mode == \"rms\":\n",
    "        rms = np.sqrt(np.mean(audio**2))\n",
    "        target_rms = 0.1  # adjust based on model training\n",
    "        if rms > 0:\n",
    "            return audio * (target_rms / rms)\n",
    "    return audio\n",
    "\n",
    "for i, item in enumerate(ds):\n",
    "    audio_bytes = item['audio']['bytes']\n",
    "\n",
    "    # Decode audio\n",
    "    audio_array, sr = sf.read(io.BytesIO(audio_bytes))\n",
    "\n",
    "    # Normalize audio\n",
    "    audio_array = normalize_audio(audio_array)\n",
    "\n",
    "    # Save to disk\n",
    "    out_path = f\"waves/{item['record_id']}.wav\"\n",
    "    sf.write(out_path, audio_array, sr)\n",
    "\n",
    "    audio_path.append(out_path)"
   ]
  },
  {
   "cell_type": "code",
   "execution_count": 23,
   "metadata": {
    "execution": {
     "iopub.execute_input": "2025-08-03T23:33:43.601545Z",
     "iopub.status.busy": "2025-08-03T23:33:43.601304Z",
     "iopub.status.idle": "2025-08-03T23:53:29.898869Z",
     "shell.execute_reply": "2025-08-03T23:53:29.898262Z",
     "shell.execute_reply.started": "2025-08-03T23:33:43.601529Z"
    },
    "trusted": true
   },
   "outputs": [
    {
     "name": "stderr",
     "output_type": "stream",
     "text": [
      "100%|██████████| 512/512 [19:46<00:00,  2.32s/it]\n"
     ]
    }
   ],
   "source": [
    "import torchaudio\n",
    "\n",
    "predictions = []\n",
    "batch_size=8\n",
    "for i in tqdm.tqdm(range(0, len(audio_path), batch_size)):\n",
    "    batch_files = audio_path[i:i+batch_size]\n",
    "    \n",
    "    # Load audio files as tensors\n",
    "    audio_tensors = []\n",
    "    for file in batch_files:\n",
    "        waveform, sr = torchaudio.load(file)\n",
    "        audio_tensors.append(waveform)\n",
    "\n",
    "    for waveform in audio_tensors:\n",
    "        pred, _ = translator.predict(waveform, \"asr\", \"swh\")\n",
    "        predictions.append(str(pred))\n"
   ]
  },
  {
   "cell_type": "code",
   "execution_count": 26,
   "metadata": {
    "execution": {
     "iopub.execute_input": "2025-08-03T23:53:56.915928Z",
     "iopub.status.busy": "2025-08-03T23:53:56.915144Z",
     "iopub.status.idle": "2025-08-03T23:53:56.919964Z",
     "shell.execute_reply": "2025-08-03T23:53:56.919172Z",
     "shell.execute_reply.started": "2025-08-03T23:53:56.915895Z"
    },
    "trusted": true
   },
   "outputs": [],
   "source": [
    "import re\n",
    "def extract_from_cstring(text):\n",
    "    match = re.search(r\"CString\\('(.+?)'\\)\", text)\n",
    "    return match.group(1) if match else None\n"
   ]
  },
  {
   "cell_type": "code",
   "execution_count": 27,
   "metadata": {
    "execution": {
     "iopub.execute_input": "2025-08-03T23:53:58.142780Z",
     "iopub.status.busy": "2025-08-03T23:53:58.142066Z",
     "iopub.status.idle": "2025-08-03T23:53:58.688373Z",
     "shell.execute_reply": "2025-08-03T23:53:58.687638Z",
     "shell.execute_reply.started": "2025-08-03T23:53:58.142756Z"
    },
    "trusted": true
   },
   "outputs": [],
   "source": [
    "result = [\n",
    "\n",
    "          {\n",
    "              \"filename\": ds[i]['filename'],\n",
    "              \"text\": extract_from_cstring(predictions[i])\n",
    "\n",
    "          }\n",
    "\n",
    "          for i in range(len(ds))\n",
    "]"
   ]
  },
  {
   "cell_type": "code",
   "execution_count": 28,
   "metadata": {
    "execution": {
     "iopub.execute_input": "2025-08-03T23:53:58.689740Z",
     "iopub.status.busy": "2025-08-03T23:53:58.689504Z",
     "iopub.status.idle": "2025-08-03T23:53:58.718199Z",
     "shell.execute_reply": "2025-08-03T23:53:58.717575Z",
     "shell.execute_reply.started": "2025-08-03T23:53:58.689716Z"
    },
    "trusted": true
   },
   "outputs": [
    {
     "data": {
      "text/html": [
       "<div>\n",
       "<style scoped>\n",
       "    .dataframe tbody tr th:only-of-type {\n",
       "        vertical-align: middle;\n",
       "    }\n",
       "\n",
       "    .dataframe tbody tr th {\n",
       "        vertical-align: top;\n",
       "    }\n",
       "\n",
       "    .dataframe thead th {\n",
       "        text-align: right;\n",
       "    }\n",
       "</style>\n",
       "<table border=\"1\" class=\"dataframe\">\n",
       "  <thead>\n",
       "    <tr style=\"text-align: right;\">\n",
       "      <th></th>\n",
       "      <th>filename</th>\n",
       "      <th>text</th>\n",
       "    </tr>\n",
       "  </thead>\n",
       "  <tbody>\n",
       "    <tr>\n",
       "      <th>0</th>\n",
       "      <td>451f6d89-9b85-46c3-ad8d-bfcb1c9a4e8f.wav</td>\n",
       "      <td>upana baina ya mita sitini na nne na sabini na...</td>\n",
       "    </tr>\n",
       "    <tr>\n",
       "      <th>1</th>\n",
       "      <td>507e10f8-0b2b-4bc0-9b69-94f96d907fb6.wav</td>\n",
       "      <td>Mwanadamu vibilia si na hivi sabato ikifika kw...</td>\n",
       "    </tr>\n",
       "    <tr>\n",
       "      <th>2</th>\n",
       "      <td>576fe4af-849e-4354-9320-368678330425.wav</td>\n",
       "      <td>Mke wangu amebadilika sana tabia zimebadilika ...</td>\n",
       "    </tr>\n",
       "    <tr>\n",
       "      <th>3</th>\n",
       "      <td>afc27663-229a-42b8-b47d-72ac6dfda574.wav</td>\n",
       "      <td>Kuna wataalamu wengi wa sayansi hivyo bado tun...</td>\n",
       "    </tr>\n",
       "    <tr>\n",
       "      <th>4</th>\n",
       "      <td>fbb7dd49-c974-4c57-ae67-1270b20859e2.wav</td>\n",
       "      <td>Zamani ziliitwa mataifa ya kati kwa upande mmoja.</td>\n",
       "    </tr>\n",
       "    <tr>\n",
       "      <th>...</th>\n",
       "      <td>...</td>\n",
       "      <td>...</td>\n",
       "    </tr>\n",
       "    <tr>\n",
       "      <th>4084</th>\n",
       "      <td>aec51d0c-0fed-4425-826f-5ac14e9931f5.wav</td>\n",
       "      <td>makumbusho ya Jimbo la Sutton huonyesha mikuta...</td>\n",
       "    </tr>\n",
       "    <tr>\n",
       "      <th>4085</th>\n",
       "      <td>24f9de28-612c-411c-a851-120e02ddd170.wav</td>\n",
       "      <td>ambazo jumla yake ni mia tisa arobaini na tisa</td>\n",
       "    </tr>\n",
       "    <tr>\n",
       "      <th>4086</th>\n",
       "      <td>da4f005f-aac4-4724-b7a7-cb0ba925f282.wav</td>\n",
       "      <td>tanzania imebarikiwa kuwa na vivutio vizuri vy...</td>\n",
       "    </tr>\n",
       "    <tr>\n",
       "      <th>4087</th>\n",
       "      <td>3931cc72-c9bb-45ce-8953-17b00dc4d800.wav</td>\n",
       "      <td>na hapo ndipo watu hao walianza kupata majina ...</td>\n",
       "    </tr>\n",
       "    <tr>\n",
       "      <th>4088</th>\n",
       "      <td>989732dc-3589-4c21-816c-f8e032ec0821.wav</td>\n",
       "      <td>Baada ya vita, alikuwa mkuu wa jeshi huko Kilwa.</td>\n",
       "    </tr>\n",
       "  </tbody>\n",
       "</table>\n",
       "<p>4089 rows × 2 columns</p>\n",
       "</div>"
      ],
      "text/plain": [
       "                                      filename  \\\n",
       "0     451f6d89-9b85-46c3-ad8d-bfcb1c9a4e8f.wav   \n",
       "1     507e10f8-0b2b-4bc0-9b69-94f96d907fb6.wav   \n",
       "2     576fe4af-849e-4354-9320-368678330425.wav   \n",
       "3     afc27663-229a-42b8-b47d-72ac6dfda574.wav   \n",
       "4     fbb7dd49-c974-4c57-ae67-1270b20859e2.wav   \n",
       "...                                        ...   \n",
       "4084  aec51d0c-0fed-4425-826f-5ac14e9931f5.wav   \n",
       "4085  24f9de28-612c-411c-a851-120e02ddd170.wav   \n",
       "4086  da4f005f-aac4-4724-b7a7-cb0ba925f282.wav   \n",
       "4087  3931cc72-c9bb-45ce-8953-17b00dc4d800.wav   \n",
       "4088  989732dc-3589-4c21-816c-f8e032ec0821.wav   \n",
       "\n",
       "                                                   text  \n",
       "0     upana baina ya mita sitini na nne na sabini na...  \n",
       "1     Mwanadamu vibilia si na hivi sabato ikifika kw...  \n",
       "2     Mke wangu amebadilika sana tabia zimebadilika ...  \n",
       "3     Kuna wataalamu wengi wa sayansi hivyo bado tun...  \n",
       "4     Zamani ziliitwa mataifa ya kati kwa upande mmoja.  \n",
       "...                                                 ...  \n",
       "4084  makumbusho ya Jimbo la Sutton huonyesha mikuta...  \n",
       "4085     ambazo jumla yake ni mia tisa arobaini na tisa  \n",
       "4086  tanzania imebarikiwa kuwa na vivutio vizuri vy...  \n",
       "4087  na hapo ndipo watu hao walianza kupata majina ...  \n",
       "4088   Baada ya vita, alikuwa mkuu wa jeshi huko Kilwa.  \n",
       "\n",
       "[4089 rows x 2 columns]"
      ]
     },
     "execution_count": 28,
     "metadata": {},
     "output_type": "execute_result"
    }
   ],
   "source": [
    "import numpy as np\n",
    "sub = pd.DataFrame(result)\n",
    "\n",
    "sub['text'] = np.where(sub['text'] == \"\", \" \", sub['text'] )\n",
    "\n",
    "\n",
    "sub.to_csv('facebook_submission_.csv', index=False)\n",
    "\n",
    "sub"
   ]
  },
  {
   "cell_type": "code",
   "execution_count": null,
   "metadata": {
    "trusted": true
   },
   "outputs": [],
   "source": []
  }
 ],
 "metadata": {
  "kaggle": {
   "accelerator": "gpu",
   "dataSources": [],
   "dockerImageVersionId": 31090,
   "isGpuEnabled": true,
   "isInternetEnabled": true,
   "language": "python",
   "sourceType": "notebook"
  },
  "kernelspec": {
   "display_name": "Python 3",
   "language": "python",
   "name": "python3"
  },
  "language_info": {
   "codemirror_mode": {
    "name": "ipython",
    "version": 3
   },
   "file_extension": ".py",
   "mimetype": "text/x-python",
   "name": "python",
   "nbconvert_exporter": "python",
   "pygments_lexer": "ipython3",
   "version": "3.11.13"
  }
 },
 "nbformat": 4,
 "nbformat_minor": 4
}
